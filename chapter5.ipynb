{
 "cells": [
  {
   "cell_type": "code",
   "execution_count": 4,
   "metadata": {},
   "outputs": [
    {
     "data": {
      "text/plain": [
       "14"
      ]
     },
     "execution_count": 4,
     "metadata": {},
     "output_type": "execute_result"
    }
   ],
   "source": [
    "def dot_cal(inputdata, weight):\n",
    "    assert(len(inputdata) == len(weight))\n",
    "    result = [inputdata[i]*weight[i] for i in range(len(inputdata))]\n",
    "    return sum(result)\n",
    "\n",
    "def neural_network(inputdata, weight):\n",
    "    pred = dot_cal(inputdata, weight)\n",
    "    return pred\n",
    "\n",
    "def ele_mul(number, vector):\n",
    "    output = [0, 0, 0]\n",
    "    assert(len(output) == len(vector))\n",
    "    for i in range(len(vector)):\n",
    "        output[i] = number * vector[i]\n",
    "    return output\n",
    "\n",
    "toes = [8.5 , 9.5, 9.9, 9.0]\n",
    "wlrec = [0.65, 0.8, 0.8, 0.9]\n",
    "nfans = [1.2 , 1.3, 0.5, 1.0]\n",
    "\n",
    "weights = [0.1, 0.2, -0.1]\n",
    "\n",
    "label_result = [1, 1, 0, 1]\n",
    "\n",
    "result = label_result[0]\n",
    "inputdata = [toes[0], wlrec[0], nfans[0]]\n",
    "pred = neural_network(inputdata, weights)\n",
    "\n",
    "error = (pred - result) ** 2\n",
    "delta = pred - true\n",
    "\n",
    "weight_deltas = ele_mul(delta, inputdata)\n",
    "\n",
    "\n",
    "dot_cal([1,2,3], [1,2,3])"
   ]
  },
  {
   "cell_type": "code",
   "execution_count": null,
   "metadata": {},
   "outputs": [],
   "source": []
  }
 ],
 "metadata": {
  "kernelspec": {
   "display_name": "Python 3",
   "language": "python",
   "name": "python3"
  },
  "language_info": {
   "codemirror_mode": {
    "name": "ipython",
    "version": 3
   },
   "file_extension": ".py",
   "mimetype": "text/x-python",
   "name": "python",
   "nbconvert_exporter": "python",
   "pygments_lexer": "ipython3",
   "version": "3.7.3"
  }
 },
 "nbformat": 4,
 "nbformat_minor": 2
}
