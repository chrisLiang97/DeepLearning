{
 "cells": [
  {
   "cell_type": "markdown",
   "metadata": {},
   "source": [
    "# A simple network\n",
    "一个输入一个输出"
   ]
  },
  {
   "cell_type": "code",
   "execution_count": 1,
   "metadata": {},
   "outputs": [
    {
     "name": "stdout",
     "output_type": "stream",
     "text": [
      "0.8500000000000001\n"
     ]
    }
   ],
   "source": [
    "# The network:\n",
    "\n",
    "weight = 0.1 \n",
    "def neural_network(input, weight):\n",
    "    prediction = input * weight\n",
    "    return prediction\n",
    "\n",
    "# How we use the network to predict something:\n",
    "\n",
    "number_of_toes = [8.5, 9.5, 10, 9]\n",
    "input = number_of_toes[0]\n",
    "pred = neural_network(input,weight)\n",
    "print(pred)"
   ]
  },
  {
   "cell_type": "markdown",
   "metadata": {},
   "source": [
    "# Runnable code\n",
    "多个输入一个输出"
   ]
  },
  {
   "cell_type": "code",
   "execution_count": 2,
   "metadata": {},
   "outputs": [
    {
     "name": "stdout",
     "output_type": "stream",
     "text": [
      "0.9800000000000001\n",
      "1.11\n",
      "1.1500000000000001\n",
      "1.08\n"
     ]
    }
   ],
   "source": [
    "def w_sum(a,b):\n",
    "    assert(len(a) == len(b))\n",
    "    output = 0\n",
    "    for i in range(len(a)):\n",
    "        output += (a[i] * b[i])\n",
    "    return output\n",
    "\n",
    "weights = [0.1, 0.2, 0] \n",
    "    \n",
    "def neural_network(input, weights):\n",
    "    pred = w_sum(input,weights)\n",
    "    return pred\n",
    "\n",
    "toes =  [8.5, 9.5, 9.9, 9.0]\n",
    "wlrec = [0.65, 0.8, 0.8, 0.9]\n",
    "nfans = [1.2, 1.3, 0.5, 1.0]\n",
    "\n",
    "# Input corresponds to every entry\n",
    "# for the first game of the season.\n",
    "for i in range(len(toes)):\n",
    "    input = [toes[i],wlrec[i],nfans[i]]\n",
    "    pred = neural_network(input,weights)\n",
    "    print(pred)"
   ]
  },
  {
   "cell_type": "markdown",
   "metadata": {},
   "source": [
    "# Numpy code"
   ]
  },
  {
   "cell_type": "code",
   "execution_count": 3,
   "metadata": {},
   "outputs": [
    {
     "name": "stdout",
     "output_type": "stream",
     "text": [
      "0.98\n",
      "1.11\n",
      "1.15\n",
      "1.08\n"
     ]
    }
   ],
   "source": [
    "import numpy\n",
    "weights = numpy.array([0.1, 0.2, 0])\n",
    "def neural_netword(inputx, weight):\n",
    "    return inputx.dot(weight)\n",
    "\n",
    "toes =  numpy.array([8.5, 9.5, 9.9, 9.0])\n",
    "wlrec = numpy.array([0.65, 0.8, 0.8, 0.9])\n",
    "nfans = numpy.array([1.2, 1.3, 0.5, 1.0])\n",
    "\n",
    "for i in range(len(toes)):\n",
    "    inputx = numpy.array([toes[i],wlrec[i],nfans[i]])\n",
    "    pred = neural_network(inputx,weights)\n",
    "    print(pred)"
   ]
  },
  {
   "cell_type": "markdown",
   "metadata": {
    "collapsed": true
   },
   "source": [
    "# Making a prediction with multiple outputs"
   ]
  },
  {
   "cell_type": "code",
   "execution_count": 5,
   "metadata": {},
   "outputs": [
    {
     "name": "stdout",
     "output_type": "stream",
     "text": [
      "[0.195, 0.13, 0.5850000000000001]\n",
      "[0.24, 0.16000000000000003, 0.7200000000000001]\n",
      "[0.27, 0.18000000000000002, 0.81]\n"
     ]
    }
   ],
   "source": [
    "weights = [0.3, 0.2, 0.9]   #[hurt, win, sad]\n",
    "result = [0.65, 0.8, 0.9]\n",
    "def ele_mul(number, vector):\n",
    "    return [number*i for i in vector]\n",
    "def neural_network(inputx, weight):\n",
    "    return ele_mul(inputx, weight)\n",
    "\n",
    "for i in range(len(result)):\n",
    "    print(neural_network(result[i], weights))"
   ]
  },
  {
   "cell_type": "markdown",
   "metadata": {
    "collapsed": true
   },
   "source": [
    "# Predicting with multiple inputs and outputs (List)"
   ]
  },
  {
   "cell_type": "code",
   "execution_count": 2,
   "metadata": {},
   "outputs": [
    {
     "name": "stdout",
     "output_type": "stream",
     "text": [
      "[0.555, 0.9800000000000001, 0.9650000000000001]\n",
      "[0.64, 1.11, 1.17]\n",
      "[0.92, 1.1500000000000001, 1.09]\n",
      "[0.69, 1.08, 1.2700000000000002]\n"
     ]
    }
   ],
   "source": [
    "weights = [[0.1, 0.1, -0.3],    # hurt\n",
    "           [0.1, 0.2, 0.0],     # win\n",
    "           [0.0, 1.3, 0.1]]     # sad\n",
    "toes = [8.5, 9.5, 9.9, 9.0]\n",
    "wlrec = [0.65,0.8, 0.8, 0.9]\n",
    "nfans = [1.2, 1.3, 0.5, 1.0]\n",
    "def dot_cal(vec1, vec2):\n",
    "    assert(len(vec1)==len(vec2))\n",
    "    return sum([vec1[i]*vec2[i] for i in range(len(vec1))])\n",
    "# def res_cal(inputdata, weight):\n",
    "#     return [dot_cal(weight[i], inputdata) for i in range(len(weight))]\n",
    "def neural_network(inputdata, weight):\n",
    "    return [dot_cal(weight[i], inputdata) for i in range(len(weight))]\n",
    "\n",
    "for i in range(len(toes)):\n",
    "    inputdata = [toes[i], wlrec[i], nfans[i]]\n",
    "    print(neural_network(inputdata, weights))"
   ]
  },
  {
   "cell_type": "markdown",
   "metadata": {},
   "source": [
    "# Predicting on Predictions\n",
    "# Stacked Neural networks(multiple layers)(List)"
   ]
  },
  {
   "cell_type": "code",
   "execution_count": 4,
   "metadata": {},
   "outputs": [
    {
     "name": "stdout",
     "output_type": "stream",
     "text": [
      "[0.21350000000000002, 0.14500000000000002, 0.5065]\n",
      "[0.20400000000000013, 0.15800000000000003, 0.53]\n",
      "[-0.5840000000000003, 0.017999999999999988, -0.4620000000000002]\n",
      "[-0.015000000000000013, 0.11600000000000002, 0.253]\n"
     ]
    }
   ],
   "source": [
    "# toes % win # fans\n",
    "ih_wgt = [ [0.1, 0.2, -0.1],   # hid[0]\n",
    "           [-0.1,0.1, 0.9],    # hid[1]\n",
    "           [0.1, 0.4, 0.1] ]   # hid[2]\n",
    " #hid[0] hid[1] hid[2]\n",
    "hp_wgt = [ [0.3, 1.1, -0.3],   # hurt?\n",
    "           [0.1, 0.2, 0.0],    # win?\n",
    "           [0.0, 1.3, 0.1] ]   # sad?\n",
    "weights = [ih_wgt, hp_wgt]\n",
    "toes = [8.5, 9.5, 9.9, 9.0]\n",
    "wlrec = [0.65,0.8, 0.8, 0.9]\n",
    "nfans = [1.2, 1.3, 0.5, 1.0]\n",
    "\n",
    "def dot_cal(vec1, vec2):\n",
    "    assert(len(vec1)==len(vec2))\n",
    "    return sum([vec1[i]*vec2[i] for i in range(len(vec1))])\n",
    "\n",
    "def neural_network(inputdata, weight):\n",
    "    hidden_layer = [dot_cal(inputdata, weight[0][i]) for i in range(len(ih_wgt))]\n",
    "    return [dot_cal(hidden_layer, weight[1][i]) for i in range(len(hp_wgt))]\n",
    "\n",
    "for i in range(len(toes)):\n",
    "    inputdata = [toes[i], wlrec[i], nfans[i]]\n",
    "    print(neural_network(inputdata, weights))"
   ]
  },
  {
   "cell_type": "markdown",
   "metadata": {},
   "source": [
    "# Stacked Neural networks(multiple layers)(Numpy)"
   ]
  },
  {
   "cell_type": "code",
   "execution_count": 12,
   "metadata": {},
   "outputs": [
    {
     "name": "stdout",
     "output_type": "stream",
     "text": [
      "[ 0.2135  0.145   0.5065]\n",
      "[ 0.204  0.158  0.53 ]\n",
      "[-0.584  0.018 -0.462]\n",
      "[-0.015  0.116  0.253]\n"
     ]
    }
   ],
   "source": [
    "import numpy as np\n",
    "# toes % win # fans\n",
    "ih_wgt = np.array([\n",
    "                 [0.1, 0.2, -0.1],      # hid[0]\n",
    "                 [-0.1,0.1, 0.9],       # hid[1]\n",
    "                 [0.1, 0.4, 0.1]]).T    # hid[2]\n",
    "# hid[0] hid[1] hid[2]\n",
    "hp_wgt = np.array([\n",
    "                 [0.3, 1.1, -0.3],      # hurt?\n",
    "                 [0.1, 0.2, 0.0],       # win?\n",
    "                 [0.0, 1.3, 0.1] ]).T   # sad?\n",
    "weights = [ih_wgt, hp_wgt]\n",
    "\n",
    "def neural_network(inputdata, weights):\n",
    "     hid = inputdata.dot(weights[0])\n",
    "     return hid.dot(weights[1])\n",
    "\n",
    "toes = np.array([8.5, 9.5, 9.9, 9.0])\n",
    "wlrec = np.array([0.65,0.8, 0.8, 0.9])\n",
    "nfans = np.array([1.2, 1.3, 0.5, 1.0])\n",
    "\n",
    "for i in range(len(toes)):\n",
    "    inputdata = np.array([toes[i],wlrec[i],nfans[i]])\n",
    "    print(neural_network(inputdata, weights))\n"
   ]
  },
  {
   "cell_type": "markdown",
   "metadata": {},
   "source": [
    "# test"
   ]
  },
  {
   "cell_type": "code",
   "execution_count": 8,
   "metadata": {},
   "outputs": [
    {
     "name": "stdout",
     "output_type": "stream",
     "text": [
      "[ 1.76  9.01  5.64]\n",
      "[ 1.76  9.01  5.64]\n"
     ]
    }
   ],
   "source": [
    "import numpy as np\n",
    "ih_wgt = np.array([\n",
    "                 [0.1, 0.2, -0.1],      # hid[0]\n",
    "                 [-0.1,0.1, 0.9],       # hid[1]\n",
    "                 [0.1, 0.4, 0.1]]).T\n",
    "toes = np.array([8.5, 9.5, 9.9])\n",
    "\n",
    "print(toes.dot(ih_wgt))\n",
    "ih_wgt = np.array([\n",
    "                 [0.1, 0.2, -0.1],      # hid[0]\n",
    "                 [-0.1,0.1, 0.9],       # hid[1]\n",
    "                 [0.1, 0.4, 0.1]])\n",
    "\n",
    "print(ih_wgt.dot(toes.T))"
   ]
  },
  {
   "cell_type": "code",
   "execution_count": null,
   "metadata": {
    "collapsed": true
   },
   "outputs": [],
   "source": []
  }
 ],
 "metadata": {
  "kernelspec": {
   "display_name": "Python 3",
   "language": "python",
   "name": "python3"
  },
  "language_info": {
   "codemirror_mode": {
    "name": "ipython",
    "version": 3
   },
   "file_extension": ".py",
   "mimetype": "text/x-python",
   "name": "python",
   "nbconvert_exporter": "python",
   "pygments_lexer": "ipython3",
   "version": "3.6.7"
  }
 },
 "nbformat": 4,
 "nbformat_minor": 2
}
