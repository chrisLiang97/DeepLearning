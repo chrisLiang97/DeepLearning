{
 "cells": [
  {
   "cell_type": "markdown",
   "metadata": {},
   "source": [
    "# Hot and cold Learning"
   ]
  },
  {
   "cell_type": "code",
   "execution_count": 10,
   "metadata": {},
   "outputs": [
    {
     "name": "stdout",
     "output_type": "stream",
     "text": [
      "Step:10        ErrorValue:0.25                \tPrediction:0.3       \n",
      "Step:20        ErrorValue:0.2025              \tPrediction:0.35      \n",
      "Step:30        ErrorValue:0.16                \tPrediction:0.4       \n",
      "Step:40        ErrorValue:0.1225              \tPrediction:0.45      \n",
      "Step:50        ErrorValue:0.09                \tPrediction:0.5       \n",
      "Step:60        ErrorValue:0.0625              \tPrediction:0.55      \n",
      "Step:70        ErrorValue:0.04                \tPrediction:0.6       \n",
      "Step:80        ErrorValue:0.0225              \tPrediction:0.65      \n",
      "Step:90        ErrorValue:0.01                \tPrediction:0.7       \n",
      "Step:100       ErrorValue:0.0025              \tPrediction:0.75      \n"
     ]
    }
   ],
   "source": [
    "weight = 0.5 #初始权重\n",
    "inputdata = 0.5 # 输入数据\n",
    "goal_prediction = 0.8 # 预测目标\n",
    "lr = 0.01\n",
    "def neural_nework(inputdata, weight):\n",
    "    return inputdata*weight\n",
    "\n",
    "for i in range(100):\n",
    "    # 权重增加\n",
    "    up_pre = neural_nework(inputdata, weight+lr)\n",
    "    up_errorValue = (up_pre - goal_prediction) ** 2\n",
    "    # 权重减少\n",
    "    down_pre = neural_nework(inputdata, weight-lr)\n",
    "    down_errorValue = (down_pre - goal_prediction) ** 2\n",
    "    \n",
    "    if up_errorValue <= down_errorValue:\n",
    "        weight += lr\n",
    "    else:\n",
    "        weight -= lr\n",
    "        \n",
    "    pre = neural_nework(inputdata, weight)\n",
    "    errorValue = (pre - goal_prediction) ** 2\n",
    "    \n",
    "    if (i+1) % 10 == 0:\n",
    "        print(\"Step:{:<10}ErrorValue:{:<20}\\tPrediction:{:<10}\".format(i+1, round(errorValue, 6), round(pre, 6)))\n",
    "    \n",
    "\n"
   ]
  },
  {
   "cell_type": "code",
   "execution_count": null,
   "metadata": {
    "collapsed": true
   },
   "outputs": [],
   "source": []
  }
 ],
 "metadata": {
  "kernelspec": {
   "display_name": "Python 3",
   "language": "python",
   "name": "python3"
  },
  "language_info": {
   "codemirror_mode": {
    "name": "ipython",
    "version": 3
   },
   "file_extension": ".py",
   "mimetype": "text/x-python",
   "name": "python",
   "nbconvert_exporter": "python",
   "pygments_lexer": "ipython3",
   "version": "3.6.7"
  }
 },
 "nbformat": 4,
 "nbformat_minor": 2
}
