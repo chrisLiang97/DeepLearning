{
 "cells": [
  {
   "cell_type": "markdown",
   "metadata": {},
   "source": [
    "# Hot and cold Learning"
   ]
  },
  {
   "cell_type": "code",
   "execution_count": 1,
   "metadata": {},
   "outputs": [
    {
     "name": "stdout",
     "output_type": "stream",
     "text": [
      "Step:10        ErrorValue:0.25                \tPrediction:0.3       \n",
      "Step:20        ErrorValue:0.2025              \tPrediction:0.35      \n",
      "Step:30        ErrorValue:0.16                \tPrediction:0.4       \n",
      "Step:40        ErrorValue:0.1225              \tPrediction:0.45      \n",
      "Step:50        ErrorValue:0.09                \tPrediction:0.5       \n",
      "Step:60        ErrorValue:0.0625              \tPrediction:0.55      \n",
      "Step:70        ErrorValue:0.04                \tPrediction:0.6       \n",
      "Step:80        ErrorValue:0.0225              \tPrediction:0.65      \n",
      "Step:90        ErrorValue:0.01                \tPrediction:0.7       \n",
      "Step:100       ErrorValue:0.0025              \tPrediction:0.75      \n"
     ]
    }
   ],
   "source": [
    "weight = 0.5 #初始权重\n",
    "inputdata = 0.5 # 输入数据\n",
    "goal_prediction = 0.8 # 预测目标\n",
    "lr = 0.01\n",
    "def neural_nework(inputdata, weight):\n",
    "    return inputdata*weight\n",
    "\n",
    "for i in range(100):\n",
    "    # 权重增加\n",
    "    up_pre = neural_nework(inputdata, weight+lr)\n",
    "    up_errorValue = (up_pre - goal_prediction) ** 2\n",
    "    # 权重减少\n",
    "    down_pre = neural_nework(inputdata, weight-lr)\n",
    "    down_errorValue = (down_pre - goal_prediction) ** 2\n",
    "    \n",
    "    if up_errorValue <= down_errorValue:\n",
    "        weight += lr\n",
    "    else:\n",
    "        weight -= lr\n",
    "        \n",
    "    pre = neural_nework(inputdata, weight)\n",
    "    errorValue = (pre - goal_prediction) ** 2\n",
    "    \n",
    "    if (i+1) % 10 == 0:\n",
    "        print(\"Step:{:<10}ErrorValue:{:<20}\\tPrediction:{:<10}\".format(i+1, round(errorValue, 6), round(pre, 6)))\n",
    "    \n",
    "\n"
   ]
  },
  {
   "cell_type": "markdown",
   "metadata": {},
   "source": [
    "# direction and amount(Gradient descent)"
   ]
  },
  {
   "cell_type": "code",
   "execution_count": 6,
   "metadata": {},
   "outputs": [
    {
     "name": "stdout",
     "output_type": "stream",
     "text": [
      "Step1    error:0.30250000000000005 prediction:0.25                \n",
      "Step2    error:0.17015625000000004 prediction:0.3875              \n",
      "Step3    error:0.095712890625      prediction:0.49062500000000003 \n",
      "Step4    error:0.05383850097656251 prediction:0.56796875          \n",
      "Step5    error:0.03028415679931642 prediction:0.6259765625        \n",
      "Step6    error:0.0170348381996155  prediction:0.669482421875      \n",
      "Step7    error:0.00958209648728372 prediction:0.70211181640625    \n",
      "Step8    error:0.005389929274097089prediction:0.7265838623046875  \n",
      "Step9    error:0.0030318352166796153prediction:0.7449378967285156  \n",
      "Step10   error:0.0017054073093822882prediction:0.7587034225463867  \n",
      "Step11   error:0.0009592916115275371prediction:0.76902756690979    \n",
      "Step12   error:0.0005396015314842384prediction:0.7767706751823426  \n",
      "Step13   error:0.000303525861459885prediction:0.7825780063867569  \n",
      "Step14   error:0.00017073329707118678prediction:0.7869335047900676  \n",
      "Step15   error:9.603747960254256e-05prediction:0.7902001285925507  \n",
      "Step16   error:5.402108227642978e-05prediction:0.7926500964444131  \n",
      "Step17   error:3.038685878049206e-05prediction:0.7944875723333098  \n",
      "Step18   error:1.7092608064027242e-05prediction:0.7958656792499823  \n",
      "Step19   error:9.614592036015323e-06prediction:0.7968992594374867  \n",
      "Step20   error:5.408208020258491e-06prediction:0.7976744445781151  \n"
     ]
    }
   ],
   "source": [
    "weight = 0.5\n",
    "goal_pred = 0.8\n",
    "inputdata = 0.5\n",
    "\n",
    "def neural_network(inputdata, weight):\n",
    "    return inputdata * weight\n",
    "\n",
    "for i in range(20):\n",
    "    pre = neural_network(inputdata, weight)\n",
    "    errorValue = (goal_pred - pre) ** 2\n",
    "    direction_and_mount = (pre - goal_pred) * inputdata  # gradient descent\n",
    "    weight -= direction_and_mount  # update the weight\n",
    "    print(\"Step{:<5}error:{:<20}prediction:{:<20}\".format(i+1, errorValue, pre))\n"
   ]
  },
  {
   "cell_type": "markdown",
   "metadata": {},
   "source": [
    "# Gradient descent with alpha\n",
    "# Derivative（导数）： It’s the relationship between two variables in a function so you can know how much one changes when you change the other.\n",
    "# Alpha help the weight not to overcorrect"
   ]
  },
  {
   "cell_type": "code",
   "execution_count": 1,
   "metadata": {},
   "outputs": [
    {
     "name": "stdout",
     "output_type": "stream",
     "text": [
      "Step1    error:0.03999999999999998      prediction:1.0                 \n",
      "Step2    error:0.0144                   prediction:0.92                \n",
      "Step3    error:0.005183999999999993     prediction:0.872               \n",
      "Step4    error:0.0018662400000000014    prediction:0.8432000000000001  \n",
      "Step5    error:0.0006718464000000028    prediction:0.8259200000000001  \n",
      "Step6    error:0.00024186470400000033   prediction:0.815552            \n",
      "Step7    error:8.70712934399997e-05     prediction:0.8093312           \n",
      "Step8    error:3.134566563839939e-05    prediction:0.80559872          \n",
      "Step9    error:1.1284439629823931e-05   prediction:0.803359232         \n",
      "Step10   error:4.062398266736526e-06    prediction:0.8020155392        \n",
      "Step11   error:1.4624633760252567e-06   prediction:0.8012093235200001  \n",
      "Step12   error:5.264868153690924e-07    prediction:0.8007255941120001  \n",
      "Step13   error:1.8953525353291194e-07   prediction:0.8004353564672001  \n",
      "Step14   error:6.82326912718715e-08     prediction:0.8002612138803201  \n",
      "Step15   error:2.456376885786678e-08    prediction:0.8001567283281921  \n",
      "Step16   error:8.842956788836216e-09    prediction:0.8000940369969153  \n",
      "Step17   error:3.1834644439835434e-09   prediction:0.8000564221981492  \n",
      "Step18   error:1.1460471998340758e-09   prediction:0.8000338533188895  \n",
      "Step19   error:4.125769919393652e-10    prediction:0.8000203119913337  \n",
      "Step20   error:1.485277170987127e-10    prediction:0.8000121871948003  \n"
     ]
    }
   ],
   "source": [
    "weight = 0.5\n",
    "goal_pred = 0.8\n",
    "inputdata = 2\n",
    "alpha = 0.1\n",
    "for iteration in range(20):\n",
    "    pred = inputdata * weight\n",
    "    error = (pred - goal_pred) ** 2\n",
    "    derivative = inputdata * (pred - goal_pred)\n",
    "    weight = weight - (alpha * derivative)\n",
    "\n",
    "#      print(\"Error:\" + str(error) + \" Prediction:\" + str(pred))\n",
    "    print(\"Step{:<5}error:{:<25}prediction:{:<20}\".format(iteration+1, error, pred))\n"
   ]
  },
  {
   "cell_type": "code",
   "execution_count": 3,
   "metadata": {},
   "outputs": [
    {
     "name": "stdout",
     "output_type": "stream",
     "text": [
      "test Linux for git\n"
     ]
    }
   ],
   "source": [
    "print(\"test Linux for git\")"
   ]
  },
  {
   "cell_type": "code",
   "execution_count": null,
   "metadata": {},
   "outputs": [],
   "source": []
  }
 ],
 "metadata": {
  "kernelspec": {
   "display_name": "Python 3",
   "language": "python",
   "name": "python3"
  },
  "language_info": {
   "codemirror_mode": {
    "name": "ipython",
    "version": 3
   },
   "file_extension": ".py",
   "mimetype": "text/x-python",
   "name": "python",
   "nbconvert_exporter": "python",
   "pygments_lexer": "ipython3",
   "version": "3.7.3"
  }
 },
 "nbformat": 4,
 "nbformat_minor": 2
}
